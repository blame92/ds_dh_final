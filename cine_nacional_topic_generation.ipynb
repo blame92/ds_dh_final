{
 "cells": [
  {
   "cell_type": "code",
   "execution_count": 1,
   "metadata": {
    "collapsed": true
   },
   "outputs": [],
   "source": [
    "import pandas as pd\n",
    "import numpy as np\n",
    "import seaborn as sns"
   ]
  },
  {
   "cell_type": "code",
   "execution_count": 16,
   "metadata": {
    "collapsed": false
   },
   "outputs": [
    {
     "name": "stderr",
     "output_type": "stream",
     "text": [
      "Skipping line 3: expected 4 fields, saw 6\n",
      "Skipping line 15: expected 4 fields, saw 5\n",
      "Skipping line 22: expected 4 fields, saw 5\n",
      "Skipping line 43: expected 4 fields, saw 5\n",
      "Skipping line 58: expected 4 fields, saw 6\n",
      "Skipping line 113: expected 4 fields, saw 5\n",
      "Skipping line 118: expected 4 fields, saw 6\n",
      "Skipping line 279: expected 4 fields, saw 5\n",
      "Skipping line 330: expected 4 fields, saw 6\n",
      "Skipping line 402: expected 4 fields, saw 5\n",
      "Skipping line 472: expected 4 fields, saw 5\n",
      "Skipping line 478: expected 4 fields, saw 7\n",
      "Skipping line 518: expected 4 fields, saw 5\n",
      "Skipping line 559: expected 4 fields, saw 5\n",
      "Skipping line 599: expected 4 fields, saw 7\n",
      "Skipping line 639: expected 4 fields, saw 12\n",
      "Skipping line 680: expected 4 fields, saw 5\n",
      "Skipping line 681: expected 4 fields, saw 7\n",
      "Skipping line 727: expected 4 fields, saw 6\n",
      "Skipping line 743: expected 4 fields, saw 8\n",
      "Skipping line 770: expected 4 fields, saw 6\n",
      "Skipping line 833: expected 4 fields, saw 7\n",
      "Skipping line 846: expected 4 fields, saw 10\n",
      "Skipping line 868: expected 4 fields, saw 10\n",
      "Skipping line 893: expected 4 fields, saw 5\n",
      "Skipping line 927: expected 4 fields, saw 6\n",
      "Skipping line 929: expected 4 fields, saw 6\n",
      "Skipping line 939: expected 4 fields, saw 6\n",
      "Skipping line 941: expected 4 fields, saw 5\n",
      "Skipping line 942: expected 4 fields, saw 5\n",
      "Skipping line 963: expected 4 fields, saw 7\n",
      "Skipping line 965: expected 4 fields, saw 7\n",
      "Skipping line 992: expected 4 fields, saw 10\n",
      "\n"
     ]
    }
   ],
   "source": [
    "#df_1 parecería no tener problemas con sus caracteres, df_2 si. \n",
    "df_1 = pd.read_csv('cine_nacional_trabajada.csv', error_bad_lines=False)\n",
    "df_2 = pd.read_csv('cine_nacional_trabajada_aj_man.csv', encoding= 'latin1', error_bad_lines=False)"
   ]
  },
  {
   "cell_type": "code",
   "execution_count": 40,
   "metadata": {
    "collapsed": false
   },
   "outputs": [],
   "source": [
    "#Sacamos 18 datos sin sinopsis\n",
    "df_1.head()\n",
    "\n",
    "df_1.columns = ['ID', 'Titulo','Anio de Produccion', 'Sinopsis']\n",
    "\n",
    "df_1 = df_1[df_1['Sinopsis'].notnull()]\n"
   ]
  },
  {
   "cell_type": "code",
   "execution_count": 41,
   "metadata": {
    "collapsed": false
   },
   "outputs": [],
   "source": [
    "from sklearn.feature_extraction.text import TfidfVectorizer, CountVectorizer\n",
    "\n",
    "sinopsis = df_1['Sinopsis']\n",
    "\n",
    "no_features = 1000\n",
    "\n",
    "# NMF is able to use tf-idf\n",
    "tfidf_vectorizer = TfidfVectorizer(max_df=0.95, min_df=2, max_features=no_features,)\n",
    "tfidf = tfidf_vectorizer.fit_transform(sinopsis)\n",
    "tfidf_feature_names = tfidf_vectorizer.get_feature_names()\n",
    "\n",
    "# LDA can only use raw term counts for LDA because it is a probabilistic graphical model\n",
    "tf_vectorizer = CountVectorizer(max_df=0.95, min_df=2, max_features=no_features)\n",
    "tf = tf_vectorizer.fit_transform(sinopsis)\n",
    "tf_feature_names = tf_vectorizer.get_feature_names()"
   ]
  },
  {
   "cell_type": "code",
   "execution_count": 42,
   "metadata": {
    "collapsed": true
   },
   "outputs": [],
   "source": [
    "from sklearn.decomposition import NMF, LatentDirichletAllocation\n",
    "\n",
    "no_topics = 10\n",
    "\n",
    "# Run NMF\n",
    "nmf = NMF(n_components=no_topics, random_state=1, alpha=.1, l1_ratio=.5, init='nndsvd').fit(tfidf)\n",
    "\n",
    "# Run LDA\n",
    "lda = LatentDirichletAllocation(n_topics=no_topics, max_iter=5, learning_method='online', learning_offset=50.,random_state=0).fit(tf)"
   ]
  },
  {
   "cell_type": "code",
   "execution_count": 45,
   "metadata": {
    "collapsed": false
   },
   "outputs": [
    {
     "name": "stdout",
     "output_type": "stream",
     "text": [
      "Modelo NMF:\n",
      "Topic 0:\n",
      "de la en las sus argentina por militar dictadura durante\n",
      "Topic 1:\n",
      "documental sobre ficción inmigrantes mujeres perón raúl argentina estas mario\n",
      "Topic 2:\n",
      "una de se en que comedia chica mujer donde amor\n",
      "Topic 3:\n",
      "el en por con las film se de es que\n",
      "Topic 4:\n",
      "su con que de por lo en es al padre\n",
      "Topic 5:\n",
      "la que historia es cuenta entre película narra no esta\n",
      "Topic 6:\n",
      "aires buenos en las pueblo ciudad calles semana económica festival\n",
      "Topic 7:\n",
      "un de se para que hombre en con pueblo grupo\n",
      "Topic 8:\n",
      "los en entre todos son años por de se uno\n",
      "Topic 9:\n",
      "del en vida secuestro parte rosario la siglo película br\n",
      "\n",
      "Modelo LDA:\n",
      "Topic 0:\n",
      "distinto meses relata cuento maestro escuela un les el de\n",
      "Topic 1:\n",
      "de en un que la su los una el che\n",
      "Topic 2:\n",
      "dictadura militar de última la durante en desaparecido un documental\n",
      "Topic 3:\n",
      "cantor reencuentra exitoso natal viejos vuelve grande tierra amigos un\n",
      "Topic 4:\n",
      "de la su en una que por con el es\n",
      "Topic 5:\n",
      "la en su de el los del que por sus\n",
      "Topic 6:\n",
      "br música espectáculo filmación luthiers les programa canción 1983 para\n",
      "Topic 7:\n",
      "de documental sobre la el href en persona cinenacional com\n",
      "Topic 8:\n",
      "de la en un que el una su los se\n",
      "Topic 9:\n",
      "corto experimental conflicto josé poder luthiers sociales sobre san exiliado\n"
     ]
    }
   ],
   "source": [
    "def display_topics(model, feature_names, no_top_words):\n",
    "    for topic_idx, topic in enumerate(model.components_):\n",
    "        print \"Topic %d:\" % (topic_idx)\n",
    "        print \" \".join([feature_names[i]\n",
    "                        for i in topic.argsort()[:-no_top_words - 1:-1]])\n",
    "\n",
    "no_top_words = 10\n",
    "print 'Modelo NMF:'\n",
    "display_topics(nmf, tfidf_feature_names, no_top_words)\n",
    "print '\\nModelo LDA:'\n",
    "display_topics(lda, tf_feature_names, no_top_words)"
   ]
  },
  {
   "cell_type": "code",
   "execution_count": null,
   "metadata": {
    "collapsed": true
   },
   "outputs": [],
   "source": []
  }
 ],
 "metadata": {
  "kernelspec": {
   "display_name": "Python 2",
   "language": "python",
   "name": "python2"
  },
  "language_info": {
   "codemirror_mode": {
    "name": "ipython",
    "version": 2
   },
   "file_extension": ".py",
   "mimetype": "text/x-python",
   "name": "python",
   "nbconvert_exporter": "python",
   "pygments_lexer": "ipython2",
   "version": "2.7.13"
  }
 },
 "nbformat": 4,
 "nbformat_minor": 2
}
